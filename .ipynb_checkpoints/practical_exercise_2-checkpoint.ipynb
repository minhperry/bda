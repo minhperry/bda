{
 "cells": [
  {
   "cell_type": "markdown",
   "metadata": {},
   "source": [
    "# Sheet 1 - Practical Exercise\n",
    "The datasets we will be using throughout this practical exercises of this course is a subset of the *FIFA 22 complete player dataset* from kaggle.com, which is extracted from a recent edition of FIFA, a football simulation game. In this dataset the player's attributes like personal data (e.g. Nationality, Club, Age, Value, …) and performances (e.g. Agression, Agility, Overall, Potential, …) are collected. (See [FIFA 22 complete player dataset](https://www.kaggle.com/datasets/stefanoleone992/fifa-22-complete-player-dataset) for details.)"
   ]
  },
  {
   "cell_type": "markdown",
   "metadata": {},
   "source": [
    "---"
   ]
  },
  {
   "cell_type": "markdown",
   "metadata": {},
   "source": [
    "Before we start with the actual exercises make sure that you have imported all packages that you need, and loaded the dataset."
   ]
  },
  {
   "cell_type": "code",
   "execution_count": 1,
   "metadata": {},
   "outputs": [
    {
     "name": "stderr",
     "output_type": "stream",
     "text": [
      "/tmp/ipykernel_3764/2999067192.py:6: DtypeWarning: Columns (25,108) have mixed types. Specify dtype option on import or set low_memory=False.\n",
      "  p22 = pd.read_csv('data/players_22.csv')\n"
     ]
    }
   ],
   "source": [
    "# Add your imports and load your data here\n",
    "import pandas as pd\n",
    "import numpy as np\n",
    "\n",
    "# Load the data\n",
    "p22 = pd.read_csv('data/players_22.csv')"
   ]
  },
  {
   "cell_type": "markdown",
   "metadata": {},
   "source": [
    "## Exercise 1\n"
   ]
  },
  {
   "cell_type": "markdown",
   "metadata": {},
   "source": [
    "First create a smaller Dataframe containing only the columns relevant for the coming exercises. These columns are:\n",
    "- ``short_name``\n",
    "- ``age``\n",
    "- ``club_name``\n",
    "- ``overall``\n",
    "- ``potential``\n",
    "- ``value_eur``\n",
    "- ``wage_eur``\n",
    "- ``club_position``"
   ]
  },
  {
   "cell_type": "code",
   "execution_count": null,
   "metadata": {},
   "outputs": [
    {
     "name": "stdout",
     "output_type": "stream",
     "text": [
      "          short_name  age            club_name  overall  potential  \\\n",
      "0           L. Messi   34  Paris Saint-Germain       93         93   \n",
      "1     R. Lewandowski   32    FC Bayern München       92         92   \n",
      "2  Cristiano Ronaldo   36    Manchester United       91         91   \n",
      "3          Neymar Jr   29  Paris Saint-Germain       91         91   \n",
      "4       K. De Bruyne   30      Manchester City       91         91   \n",
      "\n",
      "     value_eur  wage_eur club_position  \n",
      "0   78000000.0  320000.0            RW  \n",
      "1  119500000.0  270000.0            ST  \n",
      "2   45000000.0  270000.0            ST  \n",
      "3  129000000.0  270000.0            LW  \n",
      "4  125500000.0  350000.0           RCM  \n"
     ]
    }
   ],
   "source": [
    "# add code creating a Dataframe with a subset of all available columns\n",
    "p22_df = p22[['short_name', 'age', 'club_name', 'overall', 'potential', 'value_eur','wage_eur', 'club_position']]\n",
    "print(p22_df.head())"
   ]
  },
  {
   "cell_type": "markdown",
   "metadata": {},
   "source": [
    "Next write a scaler to scale the values of a column to an interval between a new minimum and maximum value.  \n",
    "It should use the following signature:\n",
    "\n",
    "_Hint: Do **not** use a loop over all entries of the column! What other ways are there to manipulate columnar data?_"
   ]
  },
  {
   "cell_type": "code",
   "execution_count": null,
   "metadata": {},
   "outputs": [],
   "source": [
    "# df.max or df.min (axis) -> axis = 0 (column) or axis = 1 (row)\n",
    "def my_scaler(column, min_val, max_val):\n",
    "    min_cur = df.min(axis=0)\n",
    "    max_cur = df.max(axis=0)\n",
    "\n",
    "    scaled_column = (max_val - min_val) / (max_cur - min_cur) * (column - min_cur) + min_val\n",
    "    \n",
    "    return scaled_column"
   ]
  },
  {
   "cell_type": "markdown",
   "metadata": {},
   "source": [
    "To achieve this your scaler can implement the formula:  \n",
    "$$\\frac{max_{new}-min_{new}}{max_{old}-min_{old}}\\cdot (v-min_{old})+min_{new}$$\n",
    "where $max_{new}$ and $min_{new}$ are the new boundaries of the values, $max_{old}$ and $min_{old}$ are the old boundaries and $v$ is a value from the column that will be scaled."
   ]
  },
  {
   "cell_type": "markdown",
   "metadata": {},
   "source": [
    "* Now use your scaler on the column ``value_eur`` and scale it to an interval between $0$ and $100$.  \n",
    "* Then take the new values for the ``value_eur`` und turn them into discrete values. If a player is below $25$ he should be categorized as ``low``, between $25$ and $50$ he should be categorized as ``low_average`` then between $50$ and $75$ as ``high_average`` and finally any that are above $75$ should be categorized as ``high``.  \n",
    "* Finally create a histogram to show the distribution of the players' value."
   ]
  },
  {
   "cell_type": "code",
   "execution_count": null,
   "metadata": {},
   "outputs": [],
   "source": [
    "# Add code to use your scaler on the value_eur-column"
   ]
  },
  {
   "cell_type": "code",
   "execution_count": null,
   "metadata": {},
   "outputs": [],
   "source": [
    "# Add code to turn the new values of the value_eur column into the given discrete values"
   ]
  },
  {
   "cell_type": "code",
   "execution_count": null,
   "metadata": {},
   "outputs": [],
   "source": [
    "# Add code to create a histogram"
   ]
  },
  {
   "cell_type": "markdown",
   "metadata": {},
   "source": [
    "## Exercise 2"
   ]
  },
  {
   "cell_type": "markdown",
   "metadata": {},
   "source": [
    "Create a new column called ``leftover-potential`` which shows the difference between the value of ``overall`` and the value of ``potential``, to show how much more a given player can still grow."
   ]
  },
  {
   "cell_type": "code",
   "execution_count": null,
   "metadata": {},
   "outputs": [],
   "source": [
    "# Add code to create the 'leftover-potential'-column"
   ]
  },
  {
   "cell_type": "markdown",
   "metadata": {},
   "source": [
    "Next create a histogram that shows how often how much potential is still left over."
   ]
  },
  {
   "cell_type": "code",
   "execution_count": 1,
   "metadata": {},
   "outputs": [],
   "source": [
    "# Add code to create the histogram"
   ]
  },
  {
   "cell_type": "markdown",
   "metadata": {},
   "source": [
    "## Exercise 3"
   ]
  },
  {
   "cell_type": "markdown",
   "metadata": {},
   "source": [
    "Group the players by the club they are playing for. Then calculate the average of the ``overall`` column for each team.  "
   ]
  },
  {
   "cell_type": "code",
   "execution_count": null,
   "metadata": {},
   "outputs": [],
   "source": [
    "# Add code to group players and calculate the average 'overall' value of each club"
   ]
  },
  {
   "cell_type": "markdown",
   "metadata": {},
   "source": [
    "Then print the five Teams with the highest as well as the five teams with the lowest average ``overall`` value, so we can see which teams are the strongest and which teams are the weakest."
   ]
  },
  {
   "cell_type": "code",
   "execution_count": null,
   "metadata": {},
   "outputs": [],
   "source": [
    "# Add code to select the strongest and weakest teams"
   ]
  },
  {
   "cell_type": "markdown",
   "metadata": {},
   "source": [
    "Next determine the sum of the ``wages`` of each team. Print the five teams with the highest total ``wages`` and the five teams with the lowest total ``wages``, but only those that spend more than 0€ in total."
   ]
  },
  {
   "cell_type": "code",
   "execution_count": null,
   "metadata": {},
   "outputs": [],
   "source": [
    "# Add code to calculate the total wages and print the highest and lowest spenders"
   ]
  }
 ],
 "metadata": {
  "kernelspec": {
   "display_name": "Python 3 (ipykernel)",
   "language": "python",
   "name": "python3"
  },
  "language_info": {
   "codemirror_mode": {
    "name": "ipython",
    "version": 3
   },
   "file_extension": ".py",
   "mimetype": "text/x-python",
   "name": "python",
   "nbconvert_exporter": "python",
   "pygments_lexer": "ipython3",
   "version": "3.11.5"
  }
 },
 "nbformat": 4,
 "nbformat_minor": 4
}
